{
 "cells": [
  {
   "cell_type": "markdown",
   "id": "b8d80dd5-3a7b-4662-b9d3-56af4a6c7fac",
   "metadata": {
    "tags": []
   },
   "source": [
    "## 2021-12-09 Attach mag vector metadata to joint luminosity function fits files ##"
   ]
  },
  {
   "cell_type": "markdown",
   "id": "70be99aa-f43f-4539-8f1c-cade9691b665",
   "metadata": {},
   "source": [
    "**2021-12-09** Started (Will Clarkson). The working directory currently \n",
    "contains file jointlf_gi.fits ."
   ]
  },
  {
   "cell_type": "code",
   "execution_count": 1,
   "id": "55d32422-b575-4a9c-8ba7-bf38529d9358",
   "metadata": {
    "tags": []
   },
   "outputs": [],
   "source": [
    "from astropy.table import Table\n",
    "import numpy as np\n",
    "import os"
   ]
  },
  {
   "cell_type": "code",
   "execution_count": 2,
   "id": "bfcfc0ef-af04-444c-9045-8cd3cc61e282",
   "metadata": {},
   "outputs": [],
   "source": [
    "def parseFilter(filts='zz', lFilts=[]):\n",
    "    \n",
    "    \"\"\"Returns matching joint luminosity function file to two-filter input string. \n",
    "    \n",
    "    Example call:\n",
    "    filLF = parseFilter('gi')\n",
    "    \n",
    "    \n",
    "    Arguments:\n",
    "    \n",
    "    filts = two-letter string for the filters of interest (e.g. 'gi', 'ur', ...)\n",
    "    \n",
    "    lFilts = user-supplied list of joint-LF filenames. Defaults to canned list if not set\n",
    "    \n",
    "    If no match found, returns a blank string. Otherwise, returns the matching element in\n",
    "    the list of LF files. Matches are order-insensitive, so filts='gi' and 'ig' would both\n",
    "    match the file 'jointlf_gi.fits'  \n",
    "    \"\"\"\n",
    "    \n",
    "    ## Because the way the noirlab datalab paths work is not entirely clear to me,\n",
    "    ## I set up a default list in this method.\n",
    "    lDefault = ['jointlf_gi.fits','jointlf_gr.fits', \\\n",
    "                'jointlf_gz.fits','jointlf_iz.fits,', \\\n",
    "                'jointlf_ri.fits','jointlf_rz.fits,', \\\n",
    "                'jointlf_ug.fits','jointlf_ui.fits',\\\n",
    "                'jointlf_ur.fits','jointlf_uz.fits']\n",
    "    if len(lFilts) < 1:\n",
    "        lFilts = lDefault[:]\n",
    "        \n",
    "    filMat=''\n",
    "    for filCand in lFilts:\n",
    "        sPair = os.path.splitext(filCand)[0].split('_')[-1]\n",
    "        if sPair.find(filts.lower()) == 0 or sPair.find(filts[::-1].lower()) == 0:\n",
    "            filMat = filCand[:]\n",
    "            break\n",
    "\n",
    "    return filMat"
   ]
  },
  {
   "cell_type": "code",
   "execution_count": 3,
   "id": "5f056d27-d892-4968-bd8f-eb99d82e7356",
   "metadata": {},
   "outputs": [],
   "source": [
    "def buildLinspacePars():\n",
    "    \n",
    "    \"\"\"Utility to return linspace parameters for metadata. Example call:\n",
    "    \n",
    "    dparams = buildLinspacePars()\"\"\"\n",
    "    \n",
    "    # This is just to record the parameters\n",
    "    \n",
    "    Dranges={}\n",
    "    Dranges['gi'] = []\n",
    "    Dranges['gi'].append({'start':15., 'stop':30., 'num':75, 'filtname':'g'})\n",
    "    Dranges['gi'].append({'start':12.5, 'stop':27.5, 'num':75, 'filtname':'i'})\n",
    "    \n",
    "    Dranges['gr'] = []\n",
    "    Dranges['gr'].append({'start':15., 'stop':30., 'num':75, 'filtname':'g'})\n",
    "    Dranges['gr'].append({'start':12.5, 'stop':27.5, 'num':75, 'filtname':'r'})\n",
    "\n",
    "    Dranges['gz'] = []\n",
    "    Dranges['gz'].append({'start':15., 'stop':30., 'num':75, 'filtname':'g'})\n",
    "    Dranges['gz'].append({'start':12.5, 'stop':27.5, 'num':75, 'filtname':'z'})\n",
    "\n",
    "    Dranges['iz'] = []\n",
    "    Dranges['iz'].append({'start':12.5, 'stop':27.5, 'num':75, 'filtname':'i'})\n",
    "    Dranges['iz'].append({'start':12.5, 'stop':27.5, 'num':75, 'filtname':'z'})\n",
    "\n",
    "    Dranges['ri'] = []\n",
    "    Dranges['ri'].append({'start':12.5, 'stop':27.5, 'num':75, 'filtname':'r'})\n",
    "    Dranges['ri'].append({'start':12.5, 'stop':27.5, 'num':75, 'filtname':'i'})\n",
    "\n",
    "    Dranges['rz'] = []\n",
    "    Dranges['rz'].append({'start':12.5, 'stop':27.5, 'num':75, 'filtname':'r'})\n",
    "    Dranges['rz'].append({'start':12.5, 'stop':27.5, 'num':75, 'filtname':'z'})\n",
    "\n",
    "    Dranges['ug'] = []\n",
    "    Dranges['ug'].append({'start':15., 'stop':33., 'num':90, 'filtname':'u'})\n",
    "    Dranges['ug'].append({'start':15, 'stop':40., 'num':75, 'filtname':'g'})\n",
    "\n",
    "    Dranges['ui'] = []\n",
    "    Dranges['ui'].append({'start':15., 'stop':33., 'num':90, 'filtname':'u'})\n",
    "    Dranges['ui'].append({'start':12.5, 'stop':27.5, 'num':75, 'filtname':'i'})\n",
    "\n",
    "    Dranges['ur'] = []\n",
    "    Dranges['ur'].append({'start':15., 'stop':33., 'num':90, 'filtname':'u'})\n",
    "    Dranges['ur'].append({'start':12.5, 'stop':27.5, 'num':75, 'filtname':'r'})\n",
    "\n",
    "    Dranges['uz'] = []\n",
    "    Dranges['uz'].append({'start':15., 'stop':33., 'num':90, 'filtname':'u'})\n",
    "    Dranges['uz'].append({'start':12.5, 'stop':27.5, 'num':75, 'filtname':'z'})\n",
    "\n",
    "    return Dranges\n",
    "    "
   ]
  },
  {
   "cell_type": "code",
   "execution_count": 4,
   "id": "f3b121f8-134f-4801-b6ec-970e977df10b",
   "metadata": {},
   "outputs": [],
   "source": [
    "def attachLinspace(filLF='jointlf_gi.fits', suffix='_wVecs', dpars={}, \\\n",
    "                   Verbose=False):\n",
    "    \n",
    "    \"\"\"Attaches linspace info to table metadata. Example call:\n",
    "    \n",
    "    attachLinspace('jointLF_gi.fits')\n",
    "    \n",
    "    ... which will, if successful, populate file jointLF_gi_imported_wVecs.fits\n",
    "    \n",
    "    Returns True if successful.\n",
    "    \n",
    "    Arguments:\n",
    "    \n",
    "    filLF = path to joint-LF file\n",
    "    \n",
    "    suffix = suffix to add for output filename.\n",
    "    \n",
    "    dpars = dictionary of linspace parameters for each filter. Will be generated\n",
    "    as default if not supplied. (Default: leave this argument empty).\n",
    "    \n",
    "    Verbose = print screen output when reading and writing the joint-LF files\n",
    "    \n",
    "    \"\"\"\n",
    "    \n",
    "    # This uses the file to look up the linspace parameters for attachment\n",
    "    \n",
    "    # get the filter-pair key\n",
    "    spair = filLF.split('_')[1].split('.')[0]\n",
    "\n",
    "    # get the linspace info if not supplied (as is the default)\n",
    "    if len(dpars.keys()) < 1:\n",
    "        dpars = buildLinspacePars()\n",
    "    \n",
    "    if not spair in dpars.keys():\n",
    "        print(\"attachLinspace FATAL - linspace info matching %s not found.\" % (spair))\n",
    "        return False\n",
    "        \n",
    "    # generate the output filename\n",
    "    pathParts = os.path.splitext(filLF)\n",
    "    pathOut = '%s%s%s' % (pathParts[0], suffix, pathParts[-1])\n",
    "    \n",
    "    # now actually do the metadata\n",
    "    try:\n",
    "        if Verbose:\n",
    "            print(\"attachLinspace INFO: Loading path %s...\" % (filLF))\n",
    "        tLF = Table.read(filLF)\n",
    "    except:\n",
    "        print(\"attachLinspace WARN - cannot read path %s\" % (filLF))     \n",
    "        return False\n",
    "        \n",
    "    # Re-generate the vec1 and vec2 from the parameters\n",
    "    pars = dpars[spair]\n",
    "    mags0 = np.linspace(pars[0]['start'], pars[0]['stop'], pars[0]['num']+1, endpoint=True)\n",
    "    mags1 = np.linspace(pars[1]['start'], pars[1]['stop'], pars[1]['num']+1, endpoint=True)\n",
    "\n",
    "    # fits format leads to uppercase keyword names, so let's make these upper-case\n",
    "    # from the beginning to keep things consistent later on\n",
    "    tLF.meta['FILT0'] = pars[0]['filtname']\n",
    "    tLF.meta['FILT1'] = pars[1]['filtname']\n",
    "    tLF.meta['MAGS0'] = list(mags0)\n",
    "    tLF.meta['MAGS1'] = list(mags1)\n",
    "    \n",
    "    # Now write this to disk\n",
    "    try:\n",
    "        if Verbose:\n",
    "            print(\"attachLinspace INFO: Writing path %s ...\" % (pathOut))\n",
    "        tLF.write(pathOut, overwrite=True)\n",
    "        return True\n",
    "    except:\n",
    "        print(\"attachLinspace WARN: problem writing path %s\" % (pathOut))\n",
    "        return False"
   ]
  },
  {
   "cell_type": "markdown",
   "id": "7383beca-63f7-49b6-a06f-4511ce76f01c",
   "metadata": {},
   "source": [
    "### Example calls ###"
   ]
  },
  {
   "cell_type": "code",
   "execution_count": 5,
   "id": "df49da76-3d91-4b24-aa7c-031469503554",
   "metadata": {},
   "outputs": [
    {
     "name": "stdout",
     "output_type": "stream",
     "text": [
      "jointlf_gi.fits\n"
     ]
    }
   ],
   "source": [
    "# example parsing user-input filter string to match with luminosity function file\n",
    "# (allowing for wrong ordering and case in user input)\n",
    "print(parseFilter('Ig'))"
   ]
  },
  {
   "cell_type": "code",
   "execution_count": 6,
   "id": "2cc8924e-ac0b-4e25-82da-03b04bc985c6",
   "metadata": {},
   "outputs": [
    {
     "name": "stdout",
     "output_type": "stream",
     "text": [
      "attachLinspace INFO: Loading path jointlf_gi.fits...\n",
      "attachLinspace INFO: Writing path jointlf_gi_wVecs.fits ...\n"
     ]
    },
    {
     "data": {
      "text/plain": [
       "True"
      ]
     },
     "execution_count": 6,
     "metadata": {},
     "output_type": "execute_result"
    }
   ],
   "source": [
    "# Example call attaching mag vector info to joint-LF file\n",
    "attachLinspace('jointlf_gi.fits', Verbose=True)"
   ]
  },
  {
   "cell_type": "code",
   "execution_count": 7,
   "id": "cd36e1cd-56cd-4a90-ba4d-efaad0a048b0",
   "metadata": {},
   "outputs": [
    {
     "name": "stdout",
     "output_type": "stream",
     "text": [
      "attachLinspace INFO: Loading path jointlf_gr.fits...\n",
      "attachLinspace INFO: Writing path jointlf_gr_wVecs.fits ...\n",
      "attachLinspace INFO: Loading path jointlf_gz.fits...\n",
      "attachLinspace INFO: Writing path jointlf_gz_wVecs.fits ...\n",
      "attachLinspace INFO: Loading path jointlf_ug.fits...\n",
      "attachLinspace INFO: Writing path jointlf_ug_wVecs.fits ...\n",
      "attachLinspace INFO: Loading path jointlf_ui.fits...\n",
      "attachLinspace INFO: Writing path jointlf_ui_wVecs.fits ...\n",
      "attachLinspace INFO: Loading path jointlf_ur.fits...\n",
      "attachLinspace INFO: Writing path jointlf_ur_wVecs.fits ...\n",
      "attachLinspace INFO: Loading path jointlf_uz.fits...\n",
      "attachLinspace INFO: Writing path jointlf_uz_wVecs.fits ...\n",
      "attachLinspace INFO: Loading path jointlf_ri.fits...\n",
      "attachLinspace INFO: Writing path jointlf_ri_wVecs.fits ...\n",
      "attachLinspace INFO: Loading path jointlf_rz.fits...\n",
      "attachLinspace INFO: Writing path jointlf_rz_wVecs.fits ...\n",
      "attachLinspace INFO: Loading path jointlf_iz.fits...\n",
      "attachLinspace INFO: Writing path jointlf_iz_wVecs.fits ...\n"
     ]
    },
    {
     "data": {
      "text/plain": [
       "True"
      ]
     },
     "execution_count": 7,
     "metadata": {},
     "output_type": "execute_result"
    }
   ],
   "source": [
    "#attachLinspace('jointlf_gi.fits', Verbose=True)\n",
    "attachLinspace('jointlf_gr.fits', Verbose=True)\n",
    "attachLinspace('jointlf_gz.fits', Verbose=True)\n",
    "\n",
    "attachLinspace('jointlf_ug.fits', Verbose=True)\n",
    "attachLinspace('jointlf_ui.fits', Verbose=True)\n",
    "attachLinspace('jointlf_ur.fits', Verbose=True)\n",
    "attachLinspace('jointlf_uz.fits', Verbose=True)\n",
    "\n",
    "attachLinspace('jointlf_ri.fits', Verbose=True)\n",
    "attachLinspace('jointlf_rz.fits', Verbose=True)\n",
    "\n",
    "attachLinspace('jointlf_iz.fits', Verbose=True)\n",
    "\n"
   ]
  },
  {
   "cell_type": "code",
   "execution_count": 8,
   "id": "58f8ad15-ff7c-4a77-ab35-374f81d018d5",
   "metadata": {},
   "outputs": [
    {
     "name": "stdout",
     "output_type": "stream",
     "text": [
      "g [15.  15.2 15.4 15.6 15.8 16.  16.2 16.4 16.6 16.8]\n",
      "i [12.5 12.7 12.9 13.1 13.3 13.5 13.7 13.9 14.1 14.3]\n"
     ]
    }
   ],
   "source": [
    "# Example reading the augmented LF file with the magnitude vectors\n",
    "tTest = Table.read('jointlf_gi_wVecs.fits')\n",
    "vec0 = np.array(tTest.meta['MAGS0'])\n",
    "vec1 = np.array(tTest.meta['MAGS1'])\n",
    "filt0 = tTest.meta['FILT0']\n",
    "filt1 = tTest.meta['FILT1']\n",
    "\n",
    "print(filt0, vec0[0:10])\n",
    "print(filt1, vec1[0:10])"
   ]
  },
  {
   "cell_type": "code",
   "execution_count": 10,
   "id": "d4ca0863-68ca-4999-8bf6-8bff4be5247d",
   "metadata": {},
   "outputs": [
    {
     "data": {
      "text/plain": [
       "'g'"
      ]
     },
     "execution_count": 10,
     "metadata": {},
     "output_type": "execute_result"
    }
   ],
   "source": [
    "filt0"
   ]
  },
  {
   "cell_type": "code",
   "execution_count": null,
   "id": "537b4b42-ef2a-4e5d-8046-42f55eb2af2d",
   "metadata": {},
   "outputs": [],
   "source": []
  }
 ],
 "metadata": {
  "kernelspec": {
   "display_name": "Python 3",
   "language": "python",
   "name": "python3"
  },
  "language_info": {
   "codemirror_mode": {
    "name": "ipython",
    "version": 3
   },
   "file_extension": ".py",
   "mimetype": "text/x-python",
   "name": "python",
   "nbconvert_exporter": "python",
   "pygments_lexer": "ipython3",
   "version": "3.8.8"
  }
 },
 "nbformat": 4,
 "nbformat_minor": 5
}
